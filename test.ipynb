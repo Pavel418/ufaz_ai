{
 "cells": [
  {
   "cell_type": "code",
   "execution_count": 1,
   "metadata": {},
   "outputs": [],
   "source": [
    "#Import libraries:\n",
    "import pandas as pd\n",
    "import numpy as np\n",
    "import xgboost as xgb\n",
    "from xgboost.sklearn import XGBClassifier\n",
    "from sklearn import metrics   #Additional scklearn functions\n",
    "from sklearn.model_selection import GridSearchCV\n",
    "import matplotlib.pylab as plt\n",
    "import mpl_toolkits\n",
    "# import pandas for data wrangling\n",
    "import pandas as pd\n",
    "\n",
    "\n",
    "# import numpy for Scientific computations\n",
    "import numpy as np\n",
    "\n",
    "\n",
    "# import machine learning libraries\n",
    "import xgboost as xgb\n",
    "from sklearn.metrics import accuracy_score\n",
    "from sklearn.metrics import mean_squared_error"
   ]
  },
  {
   "cell_type": "code",
   "execution_count": 2,
   "metadata": {},
   "outputs": [],
   "source": [
    "train = pd.read_csv('engineered_data.csv')"
   ]
  },
  {
   "cell_type": "code",
   "execution_count": 3,
   "metadata": {},
   "outputs": [
    {
     "name": "stdout",
     "output_type": "stream",
     "text": [
      "Computed error: 76647.77485640043\n"
     ]
    }
   ],
   "source": [
    "xgbr = xgb.XGBRegressor(seed=0)\n",
    "training = train.sample(frac=0.7, random_state=5)\n",
    "target = 'price'\n",
    "columns = train.columns.tolist()\n",
    "columns = [c for c in columns if c not in ['price']]\n",
    "xgbr.fit(training[columns], training[target])\n",
    "test = train.loc[~train.index.isin(training.index)]\n",
    "\n",
    "predictions = xgbr.predict(test[columns])\n",
    "\n",
    "lin_mse = mean_squared_error(predictions, test[target], squared=False)\n",
    "print(\"Computed error:\", lin_mse)"
   ]
  }
 ],
 "metadata": {
  "kernelspec": {
   "display_name": "base",
   "language": "python",
   "name": "python3"
  },
  "language_info": {
   "codemirror_mode": {
    "name": "ipython",
    "version": 3
   },
   "file_extension": ".py",
   "mimetype": "text/x-python",
   "name": "python",
   "nbconvert_exporter": "python",
   "pygments_lexer": "ipython3",
   "version": "3.9.13 (main, Aug 25 2022, 23:26:10) \n[GCC 11.2.0]"
  },
  "orig_nbformat": 4,
  "vscode": {
   "interpreter": {
    "hash": "2930d6c8336d5f928573f4f18e77cd4b174681c554bf1d0455ffc76e8e56d82a"
   }
  }
 },
 "nbformat": 4,
 "nbformat_minor": 2
}
