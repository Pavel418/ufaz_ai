{
 "cells": [
  {
   "cell_type": "code",
   "execution_count": 1,
   "metadata": {},
   "outputs": [],
   "source": [
    "import pandas as pd\n",
    "import numpy as np\n",
    "import matplotlib.pyplot as plt\n",
    "import seaborn as sns\n",
    "import mpl_toolkits\n",
    "\n",
    "%matplotlib inline"
   ]
  },
  {
   "cell_type": "code",
   "execution_count": 2,
   "metadata": {},
   "outputs": [],
   "source": [
    "train = pd.read_csv('clear_data.csv')\n",
    "data = train.sample(frac=0.7, random_state=5)\n",
    "test = train.loc[~train.index.isin(data.index)]"
   ]
  },
  {
   "cell_type": "code",
   "execution_count": 3,
   "metadata": {},
   "outputs": [],
   "source": [
    "def detect_outliers_zscore(copy, label):\n",
    "    thres = 4\n",
    "    data = copy[label]\n",
    "    mean = np.mean(data)\n",
    "    std = np.std(data)\n",
    "    for i in range(0, len(data)):\n",
    "        if i in data.index:\n",
    "            element = data[i]\n",
    "            z_score = (element-mean)/std\n",
    "            if (np.abs(z_score) > thres):\n",
    "                copy.at[i, label] = mean\n",
    "#detect_outliers_zscore(data, 'latitude')\n",
    "#detect_outliers_zscore(data, 'rooms')"
   ]
  },
  {
   "cell_type": "code",
   "execution_count": 4,
   "metadata": {},
   "outputs": [
    {
     "data": {
      "text/plain": [
       "\"def detect_outliers_zscore(data, label):\\n    outliers = []\\n    thres = 4\\n    data = data[label]\\n    mean = np.mean(data)\\n    std = np.std(data)\\n    for i in range(0, len(data)):\\n        element = data[i]\\n        z_score = (element-mean)/std\\n        if (np.abs(z_score) > thres):\\n            outliers.append(i)\\n    return outliers# Driver code\\n#sample_outliers = detect_outliers_zscore(data, 'longitude')\\nsample_outliers = detect_outliers_zscore(data, 'latitude')\\nsample_outliers += detect_outliers_zscore(data, 'rooms')\\ndata = data.drop(sample_outliers)\""
      ]
     },
     "execution_count": 4,
     "metadata": {},
     "output_type": "execute_result"
    }
   ],
   "source": [
    "'''def detect_outliers_zscore(data, label):\n",
    "    outliers = []\n",
    "    thres = 4\n",
    "    data = data[label]\n",
    "    mean = np.mean(data)\n",
    "    std = np.std(data)\n",
    "    for i in range(0, len(data)):\n",
    "        element = data[i]\n",
    "        z_score = (element-mean)/std\n",
    "        if (np.abs(z_score) > thres):\n",
    "            outliers.append(i)\n",
    "    return outliers# Driver code\n",
    "#sample_outliers = detect_outliers_zscore(data, 'longitude')\n",
    "sample_outliers = detect_outliers_zscore(data, 'latitude')\n",
    "sample_outliers += detect_outliers_zscore(data, 'rooms')\n",
    "data = data.drop(sample_outliers)'''"
   ]
  },
  {
   "cell_type": "code",
   "execution_count": 5,
   "metadata": {},
   "outputs": [
    {
     "name": "stdout",
     "output_type": "stream",
     "text": [
      "66\n"
     ]
    }
   ],
   "source": [
    "to_drop = []\n",
    "for key in data.keys():\n",
    "    if data[key].dtype == 'int64':\n",
    "        true = 0\n",
    "        false = 0\n",
    "        for element in data[key]:\n",
    "            if element == 1:\n",
    "                true += 1\n",
    "            elif element == 0:\n",
    "                false += 1\n",
    "        if true + false == len(data[key]):\n",
    "            if true * 250 < false:\n",
    "                #print(true, false, true * 25)\n",
    "                to_drop.append(key)\n",
    "print(len(to_drop))\n",
    "\n",
    "columns = data.columns.tolist()\n",
    "columns = [c for c in columns if c not in to_drop]\n",
    "data = data[columns]"
   ]
  },
  {
   "cell_type": "code",
   "execution_count": 6,
   "metadata": {},
   "outputs": [
    {
     "name": "stdout",
     "output_type": "stream",
     "text": [
      "Computed error: 69897.17636071787\n"
     ]
    }
   ],
   "source": [
    "#Import libraries:\n",
    "import pandas as pd\n",
    "import numpy as np\n",
    "import xgboost as xgb\n",
    "from xgboost.sklearn import XGBClassifier\n",
    "from sklearn import metrics   #Additional scklearn functions\n",
    "from sklearn.model_selection import GridSearchCV\n",
    "import matplotlib.pylab as plt\n",
    "import mpl_toolkits\n",
    "# import pandas for data wrangling\n",
    "import pandas as pd\n",
    "\n",
    "\n",
    "# import numpy for Scientific computations\n",
    "import numpy as np\n",
    "\n",
    "\n",
    "# import machine learning libraries\n",
    "import xgboost as xgb\n",
    "from sklearn.metrics import accuracy_score\n",
    "from sklearn.metrics import mean_squared_error\n",
    "\n",
    "xgbr = xgb.XGBRegressor(seed=0)\n",
    "target = 'price'\n",
    "columns = data.columns.tolist()\n",
    "columns = [c for c in columns if c not in ['price']]\n",
    "xgbr.fit(data[columns], data[target])\n",
    "\n",
    "predictions = xgbr.predict(test[columns])\n",
    "\n",
    "lin_mse = mean_squared_error(predictions, test[target], squared=False)\n",
    "print(\"Computed error:\", lin_mse)"
   ]
  },
  {
   "cell_type": "code",
   "execution_count": 13,
   "metadata": {},
   "outputs": [
    {
     "name": "stdout",
     "output_type": "stream",
     "text": [
      "Computed error: 5404.660151030323\n"
     ]
    }
   ],
   "source": [
    "xgbr = xgb.XGBRegressor(seed=0)\n",
    "train = pd.read_csv('clear_data.csv')\n",
    "data = train.sample(frac=0.7, random_state=5)\n",
    "columns = data.columns.tolist()\n",
    "xgbr.fit(data[columns], data[target])\n",
    "predictions = xgbr.predict(test[columns])\n",
    "\n",
    "lin_mse = mean_squared_error(predictions, test[target], squared=False)\n",
    "print(\"Computed error:\", lin_mse)"
   ]
  },
  {
   "cell_type": "code",
   "execution_count": 8,
   "metadata": {},
   "outputs": [],
   "source": [
    "#data.to_csv('engineered_test.csv', index=False)"
   ]
  }
 ],
 "metadata": {
  "kernelspec": {
   "display_name": "base",
   "language": "python",
   "name": "python3"
  },
  "language_info": {
   "codemirror_mode": {
    "name": "ipython",
    "version": 3
   },
   "file_extension": ".py",
   "mimetype": "text/x-python",
   "name": "python",
   "nbconvert_exporter": "python",
   "pygments_lexer": "ipython3",
   "version": "3.9.13"
  },
  "orig_nbformat": 4,
  "vscode": {
   "interpreter": {
    "hash": "2043299c89c8cd0b4d1a6f5cf4529bd58e6a4e0fe3181a25e0d328c821cdc5c5"
   }
  }
 },
 "nbformat": 4,
 "nbformat_minor": 2
}
