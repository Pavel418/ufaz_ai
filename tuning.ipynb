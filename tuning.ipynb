{
 "cells": [
  {
   "cell_type": "code",
   "execution_count": 1,
   "metadata": {},
   "outputs": [],
   "source": [
    "import pandas as pd\n",
    "import numpy as np\n",
    "import matplotlib.pyplot as plt\n",
    "import seaborn as sns\n",
    "from sklearn.preprocessing import OneHotEncoder\n",
    "import mpl_toolkits\n",
    "from scipy.stats import loguniform\n",
    "from sklearn.ensemble import GradientBoostingRegressor\n",
    "from sklearn.model_selection import GridSearchCV\n",
    "%matplotlib inline"
   ]
  },
  {
   "cell_type": "code",
   "execution_count": 2,
   "metadata": {},
   "outputs": [],
   "source": [
    "train = pd.read_csv('engineered_data.csv')"
   ]
  },
  {
   "cell_type": "code",
   "execution_count": 3,
   "metadata": {},
   "outputs": [
    {
     "name": "stdout",
     "output_type": "stream",
     "text": [
      "Fitting 5 folds for each of 9 candidates, totalling 45 fits\n",
      "Best parameters: {'subsample': 0.8}\n",
      "Lowest RMSE:  74703.75080060621\n"
     ]
    }
   ],
   "source": [
    "param_distributions = {\n",
    "    #\"n_estimators\": [5, 10, 20, 50, 100, 200, 300, 400, 500, 600,650, 700, 800, 900, 1000],\n",
    "    #\"max_leaf_nodes\": [2, 3, 4, 5, 10, 20, 50, 100, 150, 200, 250],\n",
    "    #\"learning_rate\": [1, 2]\n",
    "    #\"max_features\": range(7,19,2)\n",
    "    #\"min_samples_leaf\": range(1, 12, 2)\n",
    "    \"subsample\": [0.6, 0.65, 0.7, 0.75, 0.8, 0.85, 0.9, 0.95, 1]\n",
    "}\n",
    "br = GradientBoostingRegressor(learning_rate=0.1, min_samples_split=10, max_depth=4, n_estimators=2100, max_leaf_nodes= 50, random_state=0, max_features=15)\n",
    "search_cv = GridSearchCV(estimator=br, \n",
    "                   param_grid=param_distributions,\n",
    "                   scoring = 'neg_mean_squared_error', \n",
    "                   verbose=1,\n",
    "                   error_score='raise',\n",
    "                   n_jobs=4)\n",
    "\n",
    "target = \"price\"\n",
    "columns = train.columns.tolist()\n",
    "columns = [c for c in columns if c not in [\"price\"]]\n",
    "search_cv.fit(train[columns], train[target])\n",
    "\n",
    "\n",
    "print(\"Best parameters:\", search_cv.best_params_)\n",
    "print(\"Lowest RMSE: \", (-search_cv.best_score_)**(1/2.0))"
   ]
  },
  {
   "cell_type": "code",
   "execution_count": null,
   "metadata": {},
   "outputs": [],
   "source": [
    "from sklearn.metrics import mean_squared_error\n",
    "\n",
    "br = GradientBoostingRegressor(learning_rate=0.1, min_samples_split=10, max_depth=4, n_estimators=2100, max_leaf_nodes= 50, random_state=0, max_features=15)\n",
    "training = train.sample(frac=0.7, random_state=5)\n",
    "test = train.loc[~train.index.isin(training.index)]\n",
    "br.fit(train[columns], train[target])\n",
    "clf = br.predict(test[columns])\n",
    "# Compute error between our test predictions and the actual values.\n",
    "lin_mse = mean_squared_error(clf, test[target], squared=False)\n",
    "print(\"Computed error:\", lin_mse)"
   ]
  }
 ],
 "metadata": {
  "kernelspec": {
   "display_name": "base",
   "language": "python",
   "name": "python3"
  },
  "language_info": {
   "codemirror_mode": {
    "name": "ipython",
    "version": 3
   },
   "file_extension": ".py",
   "mimetype": "text/x-python",
   "name": "python",
   "nbconvert_exporter": "python",
   "pygments_lexer": "ipython3",
   "version": "3.9.13 (main, Aug 25 2022, 23:26:10) \n[GCC 11.2.0]"
  },
  "orig_nbformat": 4,
  "vscode": {
   "interpreter": {
    "hash": "2930d6c8336d5f928573f4f18e77cd4b174681c554bf1d0455ffc76e8e56d82a"
   }
  }
 },
 "nbformat": 4,
 "nbformat_minor": 2
}
